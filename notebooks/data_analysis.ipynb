{
 "metadata": {
  "language_info": {
   "codemirror_mode": {
    "name": "ipython",
    "version": 3
   },
   "file_extension": ".py",
   "mimetype": "text/x-python",
   "name": "python",
   "nbconvert_exporter": "python",
   "pygments_lexer": "ipython3",
   "version": "3.7.9"
  },
  "orig_nbformat": 4,
  "kernelspec": {
   "name": "python3",
   "display_name": "Python 3.7.9 64-bit"
  },
  "interpreter": {
   "hash": "0b41b614c6c44926803297f7350f5772704ee7eec981e74618681f951a073a73"
  }
 },
 "nbformat": 4,
 "nbformat_minor": 2,
 "cells": [
  {
   "cell_type": "code",
   "execution_count": 26,
   "metadata": {},
   "outputs": [],
   "source": [
    "import pandas as pd\n",
    "from sklearn.metrics.cluster import completeness_score, homogeneity_score, v_measure_score"
   ]
  },
  {
   "cell_type": "code",
   "execution_count": 57,
   "metadata": {},
   "outputs": [],
   "source": [
    "kmeans_result_1 = pd.read_excel('../dataset/kmeans_1.xlsx')\n",
    "kmeans_result_2 = pd.read_excel('../dataset/kmeans_2.xlsx')\n",
    "val_data = pd.read_excel('../dataset/val_dataset.xlsx')"
   ]
  },
  {
   "cell_type": "code",
   "execution_count": 17,
   "metadata": {},
   "outputs": [
    {
     "output_type": "execute_result",
     "data": {
      "text/plain": [
       "1558"
      ]
     },
     "metadata": {},
     "execution_count": 17
    }
   ],
   "source": [
    "kmeans_result_2['Cluster'].nunique()"
   ]
  },
  {
   "cell_type": "code",
   "execution_count": 55,
   "metadata": {},
   "outputs": [
    {
     "output_type": "execute_result",
     "data": {
      "text/plain": [
       "3273"
      ]
     },
     "metadata": {},
     "execution_count": 55
    }
   ],
   "source": [
    "val_data['Label_1'].nunique()"
   ]
  },
  {
   "cell_type": "code",
   "execution_count": 58,
   "metadata": {},
   "outputs": [
    {
     "output_type": "stream",
     "name": "stdout",
     "text": [
      "0.9035985163034518 0.9360047222781323 0.9195161875836584\n"
     ]
    }
   ],
   "source": [
    "cs = completeness_score(val_data['Label_1'], kmeans_result_1['Cluster'])\n",
    "hs = homogeneity_score(val_data['Label_1'], kmeans_result_1['Cluster'])\n",
    "vs = v_measure_score(val_data['Label_1'], kmeans_result_1['Cluster'])\n",
    "print(cs, hs, vs)"
   ]
  },
  {
   "cell_type": "code",
   "execution_count": 49,
   "metadata": {},
   "outputs": [
    {
     "output_type": "stream",
     "name": "stdout",
     "text": [
      "0.8379827528066932 0.8946644185488747 0.8653964461872912\n"
     ]
    }
   ],
   "source": [
    "cs = completeness_score(val_data['Label_2'], kmeans_result_2['Cluster'])\n",
    "hs = homogeneity_score(val_data['Label_2'], kmeans_result_2['Cluster'])\n",
    "vs = v_measure_score(val_data['Label_2'], kmeans_result_2['Cluster'])\n",
    "print(cs, hs, vs)"
   ]
  },
  {
   "cell_type": "code",
   "execution_count": 59,
   "metadata": {},
   "outputs": [],
   "source": [
    "auto_result_1 = pd.read_excel('../dataset/autoencoder_1.xlsx')\n",
    "auto_result_2 = pd.read_excel('../dataset/autoencoder_1_50.xlsx')"
   ]
  },
  {
   "cell_type": "code",
   "execution_count": 63,
   "metadata": {},
   "outputs": [
    {
     "output_type": "stream",
     "name": "stdout",
     "text": [
      "0.8649823675950257 0.8729535696539152 0.8689496883009838\n"
     ]
    }
   ],
   "source": [
    "cs = completeness_score(val_data['Label_1'], auto_result_1['Cluster'])\n",
    "hs = homogeneity_score(val_data['Label_1'], auto_result_1['Cluster'])\n",
    "vs = v_measure_score(val_data['Label_1'], auto_result_1['Cluster'])\n",
    "print(cs, hs, vs)"
   ]
  },
  {
   "cell_type": "code",
   "execution_count": 51,
   "metadata": {},
   "outputs": [
    {
     "output_type": "stream",
     "name": "stdout",
     "text": [
      "0.8269841858165766 0.8761304952647186 0.8508482398091458\n"
     ]
    }
   ],
   "source": [
    "cs = completeness_score(val_data['Label_2'], auto_result_2['Cluster'])\n",
    "hs = homogeneity_score(val_data['Label_2'], auto_result_2['Cluster'])\n",
    "vs = v_measure_score(val_data['Label_2'], auto_result_2['Cluster'])\n",
    "print(cs, hs, vs)"
   ]
  },
  {
   "cell_type": "code",
   "execution_count": 44,
   "metadata": {},
   "outputs": [],
   "source": [
    "raw_result_1 = pd.read_excel('../dataset/output_raw_1.xlsx')\n",
    "raw_result_2 = pd.read_excel('../dataset/output_raw_2.xlsx')"
   ]
  },
  {
   "cell_type": "code",
   "execution_count": 45,
   "metadata": {},
   "outputs": [
    {
     "output_type": "execute_result",
     "data": {
      "text/plain": [
       "3256"
      ]
     },
     "metadata": {},
     "execution_count": 45
    }
   ],
   "source": [
    "raw_result_1['Cluster'].nunique()"
   ]
  },
  {
   "cell_type": "code",
   "execution_count": 52,
   "metadata": {},
   "outputs": [
    {
     "output_type": "stream",
     "name": "stdout",
     "text": [
      "0.8515063802221696 0.910802000032735 0.8801566432258678\n"
     ]
    }
   ],
   "source": [
    "cs = completeness_score(val_data['Label_1'], raw_result_1['Cluster'])\n",
    "hs = homogeneity_score(val_data['Label_1'], raw_result_1['Cluster'])\n",
    "vs = v_measure_score(val_data['Label_1'], raw_result_1['Cluster'])\n",
    "print(cs, hs, vs)"
   ]
  },
  {
   "cell_type": "code",
   "execution_count": 53,
   "metadata": {},
   "outputs": [
    {
     "output_type": "stream",
     "name": "stdout",
     "text": [
      "0.8028114631787978 0.9203356350365234 0.8575657859326102\n"
     ]
    }
   ],
   "source": [
    "cs = completeness_score(val_data['Label_2'], raw_result_2['Cluster'])\n",
    "hs = homogeneity_score(val_data['Label_2'], raw_result_2['Cluster'])\n",
    "vs = v_measure_score(val_data['Label_2'], raw_result_2['Cluster'])\n",
    "print(cs, hs, vs)"
   ]
  },
  {
   "cell_type": "code",
   "execution_count": null,
   "metadata": {},
   "outputs": [],
   "source": []
  }
 ]
}