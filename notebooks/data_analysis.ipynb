{
 "metadata": {
  "language_info": {
   "codemirror_mode": {
    "name": "ipython",
    "version": 3
   },
   "file_extension": ".py",
   "mimetype": "text/x-python",
   "name": "python",
   "nbconvert_exporter": "python",
   "pygments_lexer": "ipython3",
   "version": "3.7.9"
  },
  "orig_nbformat": 4,
  "kernelspec": {
   "name": "python3",
   "display_name": "Python 3.7.9 64-bit"
  },
  "interpreter": {
   "hash": "0b41b614c6c44926803297f7350f5772704ee7eec981e74618681f951a073a73"
  }
 },
 "nbformat": 4,
 "nbformat_minor": 2,
 "cells": [
  {
   "cell_type": "code",
   "execution_count": 1,
   "metadata": {},
   "outputs": [],
   "source": [
    "import pandas as pd\n",
    "from sklearn.metrics.cluster import completeness_score, homogeneity_score, v_measure_score"
   ]
  },
  {
   "cell_type": "code",
   "execution_count": 62,
   "metadata": {},
   "outputs": [],
   "source": [
    "kmeans_result_1 = pd.read_excel('../dataset/kmeans_1+++.xlsx')\n",
    "kmeans_result_2 = pd.read_excel('../dataset/kmeans_1++.xlsx')\n",
    "val_data = pd.read_excel('../dataset/val_dataset.xlsx')"
   ]
  },
  {
   "cell_type": "code",
   "execution_count": 67,
   "metadata": {},
   "outputs": [],
   "source": [
    "val_data = val_data[val_data['id'].isin(kmeans_result_1['id'])]"
   ]
  },
  {
   "cell_type": "code",
   "execution_count": 66,
   "metadata": {},
   "outputs": [],
   "source": [
    "kmeans_result_2 = kmeans_result_2[kmeans_result_2['id'].isin(kmeans_result_1['id'])]"
   ]
  },
  {
   "cell_type": "code",
   "execution_count": 55,
   "metadata": {},
   "outputs": [
    {
     "output_type": "execute_result",
     "data": {
      "text/plain": [
       "3108"
      ]
     },
     "metadata": {},
     "execution_count": 55
    }
   ],
   "source": [
    "kmeans_result_1['Cluster'].nunique()"
   ]
  },
  {
   "cell_type": "code",
   "execution_count": 56,
   "metadata": {},
   "outputs": [
    {
     "output_type": "execute_result",
     "data": {
      "text/plain": [
       "3108"
      ]
     },
     "metadata": {},
     "execution_count": 56
    }
   ],
   "source": [
    "val_data2['Label_1'].nunique()"
   ]
  },
  {
   "cell_type": "code",
   "execution_count": 64,
   "metadata": {},
   "outputs": [
    {
     "output_type": "stream",
     "name": "stdout",
     "text": [
      "0.8991176445417642 0.9299069354699603 0.9142531408270539\n"
     ]
    }
   ],
   "source": [
    "cs = completeness_score(val_data2['Label_1'], kmeans_result_1['Cluster'])\n",
    "hs = homogeneity_score(val_data2['Label_1'], kmeans_result_1['Cluster'])\n",
    "vs = v_measure_score(val_data2['Label_1'], kmeans_result_1['Cluster'])\n",
    "print(cs, hs, vs)"
   ]
  },
  {
   "cell_type": "code",
   "execution_count": 68,
   "metadata": {},
   "outputs": [
    {
     "output_type": "stream",
     "name": "stdout",
     "text": [
      "0.8974718539462319 0.9461513779603493 0.9211689423263723\n"
     ]
    }
   ],
   "source": [
    "cs = completeness_score(val_data['Label_1'], kmeans_result_2['Cluster'])\n",
    "hs = homogeneity_score(val_data['Label_1'], kmeans_result_2['Cluster'])\n",
    "vs = v_measure_score(val_data['Label_1'], kmeans_result_2['Cluster'])\n",
    "print(cs, hs, vs)"
   ]
  },
  {
   "cell_type": "code",
   "execution_count": 13,
   "metadata": {},
   "outputs": [],
   "source": [
    "auto_result_1 = pd.read_excel('../dataset/autoencoder_1++.xlsx')\n",
    "auto_result_2 = pd.read_excel('../dataset/autoencoder_2++.xlsx')"
   ]
  },
  {
   "cell_type": "code",
   "execution_count": 14,
   "metadata": {},
   "outputs": [
    {
     "output_type": "stream",
     "name": "stdout",
     "text": [
      "0.9471372590766728 0.8522209076871279 0.8971756591255426\n"
     ]
    }
   ],
   "source": [
    "cs = completeness_score(val_data['Label_1'], auto_result_1['Cluster'])\n",
    "hs = homogeneity_score(val_data['Label_1'], auto_result_1['Cluster'])\n",
    "vs = v_measure_score(val_data['Label_1'], auto_result_1['Cluster'])\n",
    "print(cs, hs, vs)"
   ]
  },
  {
   "cell_type": "code",
   "execution_count": 15,
   "metadata": {},
   "outputs": [
    {
     "output_type": "stream",
     "name": "stdout",
     "text": [
      "0.8320270517839141 0.7850262962760063 0.8078436195651942\n"
     ]
    }
   ],
   "source": [
    "cs = completeness_score(val_data['Label_2'], auto_result_2['Cluster'])\n",
    "hs = homogeneity_score(val_data['Label_2'], auto_result_2['Cluster'])\n",
    "vs = v_measure_score(val_data['Label_2'], auto_result_2['Cluster'])\n",
    "print(cs, hs, vs)"
   ]
  },
  {
   "cell_type": "code",
   "execution_count": 16,
   "metadata": {},
   "outputs": [],
   "source": [
    "raw_result_1 = pd.read_excel('../dataset/kmeans_ae_1.xlsx')\n",
    "raw_result_2 = pd.read_excel('../dataset/kmeans_ae_2.xlsx')"
   ]
  },
  {
   "cell_type": "code",
   "execution_count": 45,
   "metadata": {},
   "outputs": [
    {
     "output_type": "execute_result",
     "data": {
      "text/plain": [
       "3256"
      ]
     },
     "metadata": {},
     "execution_count": 45
    }
   ],
   "source": [
    "raw_result_1['Cluster'].nunique()"
   ]
  },
  {
   "cell_type": "code",
   "execution_count": 17,
   "metadata": {},
   "outputs": [
    {
     "output_type": "stream",
     "name": "stdout",
     "text": [
      "0.9445704961733535 0.8595341594207899 0.9000482371402816\n"
     ]
    }
   ],
   "source": [
    "cs = completeness_score(val_data['Label_1'], raw_result_1['Cluster'])\n",
    "hs = homogeneity_score(val_data['Label_1'], raw_result_1['Cluster'])\n",
    "vs = v_measure_score(val_data['Label_1'], raw_result_1['Cluster'])\n",
    "print(cs, hs, vs)"
   ]
  },
  {
   "cell_type": "code",
   "execution_count": 18,
   "metadata": {},
   "outputs": [
    {
     "output_type": "stream",
     "name": "stdout",
     "text": [
      "0.8307499929993964 0.8041110799362081 0.8172135052775269\n"
     ]
    }
   ],
   "source": [
    "cs = completeness_score(val_data['Label_2'], raw_result_2['Cluster'])\n",
    "hs = homogeneity_score(val_data['Label_2'], raw_result_2['Cluster'])\n",
    "vs = v_measure_score(val_data['Label_2'], raw_result_2['Cluster'])\n",
    "print(cs, hs, vs)"
   ]
  },
  {
   "cell_type": "code",
   "execution_count": null,
   "metadata": {},
   "outputs": [],
   "source": []
  }
 ]
}