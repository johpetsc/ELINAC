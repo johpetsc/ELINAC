{
 "metadata": {
  "language_info": {
   "codemirror_mode": {
    "name": "ipython",
    "version": 3
   },
   "file_extension": ".py",
   "mimetype": "text/x-python",
   "name": "python",
   "nbconvert_exporter": "python",
   "pygments_lexer": "ipython3",
   "version": "3.7.9"
  },
  "orig_nbformat": 4,
  "kernelspec": {
   "name": "python3",
   "display_name": "Python 3.7.9 64-bit"
  },
  "interpreter": {
   "hash": "0b41b614c6c44926803297f7350f5772704ee7eec981e74618681f951a073a73"
  }
 },
 "nbformat": 4,
 "nbformat_minor": 2,
 "cells": [
  {
   "cell_type": "code",
   "execution_count": 4,
   "metadata": {},
   "outputs": [],
   "source": [
    "import pandas as pd"
   ]
  },
  {
   "cell_type": "code",
   "execution_count": 5,
   "metadata": {},
   "outputs": [
    {
     "output_type": "execute_result",
     "data": {
      "text/plain": [
       "          id  Label_1  Label_2                                 Original  \\\n",
       "0          0       45       12  #$ACETO.TRIA+SULFNEO+GRAM+NIST POM G LE   \n",
       "1          1       45       12  #$ACETO.TRIA+SULFNEO+GRAM+NIST POM G LE   \n",
       "2          2       45       12  #$ACETO.TRIA+SULFNEO+GRAM+NIST POM G LE   \n",
       "3          3       45       12  #$ACETO.TRIA+SULFNEO+GRAM+NIST POM G LE   \n",
       "4          4      291      153       #$BACTRONEO POM 20MG/G C/15G NEOQU   \n",
       "...      ...      ...      ...                                      ...   \n",
       "21111  21111     3258     1572                       ZYPRED SOL OFT 6ML   \n",
       "21112  21112     3258     1572                     ZYPRED SOL OFT C/6ML   \n",
       "21113  21113     3258     1572                     ZYPRED SOL OFT C/6ML   \n",
       "21114  21114     3258     1572                     ZYPRED SOL OFT C/6ML   \n",
       "21115  21115     3259     1572                 ZYPRED SUSP OFT 3ML  POS   \n",
       "\n",
       "       Quantity  Price  \n",
       "0             1  20.00  \n",
       "1             1  20.00  \n",
       "2             1  20.00  \n",
       "3             1  20.00  \n",
       "4             8  30.00  \n",
       "...         ...    ...  \n",
       "21111         2  68.63  \n",
       "21112         1  70.84  \n",
       "21113         1  70.84  \n",
       "21114         1  70.84  \n",
       "21115         2  35.07  \n",
       "\n",
       "[21116 rows x 6 columns]"
      ],
      "text/html": "<div>\n<style scoped>\n    .dataframe tbody tr th:only-of-type {\n        vertical-align: middle;\n    }\n\n    .dataframe tbody tr th {\n        vertical-align: top;\n    }\n\n    .dataframe thead th {\n        text-align: right;\n    }\n</style>\n<table border=\"1\" class=\"dataframe\">\n  <thead>\n    <tr style=\"text-align: right;\">\n      <th></th>\n      <th>id</th>\n      <th>Label_1</th>\n      <th>Label_2</th>\n      <th>Original</th>\n      <th>Quantity</th>\n      <th>Price</th>\n    </tr>\n  </thead>\n  <tbody>\n    <tr>\n      <th>0</th>\n      <td>0</td>\n      <td>45</td>\n      <td>12</td>\n      <td>#$ACETO.TRIA+SULFNEO+GRAM+NIST POM G LE</td>\n      <td>1</td>\n      <td>20.00</td>\n    </tr>\n    <tr>\n      <th>1</th>\n      <td>1</td>\n      <td>45</td>\n      <td>12</td>\n      <td>#$ACETO.TRIA+SULFNEO+GRAM+NIST POM G LE</td>\n      <td>1</td>\n      <td>20.00</td>\n    </tr>\n    <tr>\n      <th>2</th>\n      <td>2</td>\n      <td>45</td>\n      <td>12</td>\n      <td>#$ACETO.TRIA+SULFNEO+GRAM+NIST POM G LE</td>\n      <td>1</td>\n      <td>20.00</td>\n    </tr>\n    <tr>\n      <th>3</th>\n      <td>3</td>\n      <td>45</td>\n      <td>12</td>\n      <td>#$ACETO.TRIA+SULFNEO+GRAM+NIST POM G LE</td>\n      <td>1</td>\n      <td>20.00</td>\n    </tr>\n    <tr>\n      <th>4</th>\n      <td>4</td>\n      <td>291</td>\n      <td>153</td>\n      <td>#$BACTRONEO POM 20MG/G C/15G NEOQU</td>\n      <td>8</td>\n      <td>30.00</td>\n    </tr>\n    <tr>\n      <th>...</th>\n      <td>...</td>\n      <td>...</td>\n      <td>...</td>\n      <td>...</td>\n      <td>...</td>\n      <td>...</td>\n    </tr>\n    <tr>\n      <th>21111</th>\n      <td>21111</td>\n      <td>3258</td>\n      <td>1572</td>\n      <td>ZYPRED SOL OFT 6ML</td>\n      <td>2</td>\n      <td>68.63</td>\n    </tr>\n    <tr>\n      <th>21112</th>\n      <td>21112</td>\n      <td>3258</td>\n      <td>1572</td>\n      <td>ZYPRED SOL OFT C/6ML</td>\n      <td>1</td>\n      <td>70.84</td>\n    </tr>\n    <tr>\n      <th>21113</th>\n      <td>21113</td>\n      <td>3258</td>\n      <td>1572</td>\n      <td>ZYPRED SOL OFT C/6ML</td>\n      <td>1</td>\n      <td>70.84</td>\n    </tr>\n    <tr>\n      <th>21114</th>\n      <td>21114</td>\n      <td>3258</td>\n      <td>1572</td>\n      <td>ZYPRED SOL OFT C/6ML</td>\n      <td>1</td>\n      <td>70.84</td>\n    </tr>\n    <tr>\n      <th>21115</th>\n      <td>21115</td>\n      <td>3259</td>\n      <td>1572</td>\n      <td>ZYPRED SUSP OFT 3ML  POS</td>\n      <td>2</td>\n      <td>35.07</td>\n    </tr>\n  </tbody>\n</table>\n<p>21116 rows × 6 columns</p>\n</div>"
     },
     "metadata": {},
     "execution_count": 5
    }
   ],
   "source": [
    "# reading original data\n",
    "df = pd.read_excel('../dataset/val_dataset.xlsx')\n",
    "df"
   ]
  },
  {
   "cell_type": "code",
   "execution_count": 6,
   "metadata": {},
   "outputs": [],
   "source": [
    "# df = pd.DataFrame(columns=['Text', 'Original', 'Quantity', 'Price'])\n",
    "# df['Original']  = data['DESC']\n",
    "# df['Quantity'] = data['QTD']\n",
    "# df['Price'] = data['VAL']\n",
    "# df"
   ]
  },
  {
   "cell_type": "code",
   "execution_count": 7,
   "metadata": {},
   "outputs": [],
   "source": [
    "# uppercasing the text\r\n",
    "df['Text'] = df['Original'].str.upper()"
   ]
  },
  {
   "cell_type": "code",
   "execution_count": 8,
   "metadata": {},
   "outputs": [
    {
     "output_type": "execute_result",
     "data": {
      "text/plain": [
       "          id  Label_1  Label_2                                 Original  \\\n",
       "0          0       45       12  #$ACETO.TRIA+SULFNEO+GRAM+NIST POM G LE   \n",
       "1          1       45       12  #$ACETO.TRIA+SULFNEO+GRAM+NIST POM G LE   \n",
       "2          2       45       12  #$ACETO.TRIA+SULFNEO+GRAM+NIST POM G LE   \n",
       "3          3       45       12  #$ACETO.TRIA+SULFNEO+GRAM+NIST POM G LE   \n",
       "4          4      291      153       #$BACTRONEO POM 20MG/G C/15G NEOQU   \n",
       "...      ...      ...      ...                                      ...   \n",
       "21111  21111     3258     1572                       ZYPRED SOL OFT 6ML   \n",
       "21112  21112     3258     1572                     ZYPRED SOL OFT C/6ML   \n",
       "21113  21113     3258     1572                     ZYPRED SOL OFT C/6ML   \n",
       "21114  21114     3258     1572                     ZYPRED SOL OFT C/6ML   \n",
       "21115  21115     3259     1572                 ZYPRED SUSP OFT 3ML  POS   \n",
       "\n",
       "       Quantity  Price                                    Text  \n",
       "0             1  20.00    ACETOTRIA SULFNEO GRAM NIST POM G LE  \n",
       "1             1  20.00    ACETOTRIA SULFNEO GRAM NIST POM G LE  \n",
       "2             1  20.00    ACETOTRIA SULFNEO GRAM NIST POM G LE  \n",
       "3             1  20.00    ACETOTRIA SULFNEO GRAM NIST POM G LE  \n",
       "4             8  30.00        BACTRONEO POM 20MG G C 15G NEOQU  \n",
       "...         ...    ...                                     ...  \n",
       "21111         2  68.63                      ZYPRED SOL OFT 6ML  \n",
       "21112         1  70.84                    ZYPRED SOL OFT C 6ML  \n",
       "21113         1  70.84                    ZYPRED SOL OFT C 6ML  \n",
       "21114         1  70.84                    ZYPRED SOL OFT C 6ML  \n",
       "21115         2  35.07                ZYPRED SUSP OFT 3ML  POS  \n",
       "\n",
       "[21116 rows x 7 columns]"
      ],
      "text/html": "<div>\n<style scoped>\n    .dataframe tbody tr th:only-of-type {\n        vertical-align: middle;\n    }\n\n    .dataframe tbody tr th {\n        vertical-align: top;\n    }\n\n    .dataframe thead th {\n        text-align: right;\n    }\n</style>\n<table border=\"1\" class=\"dataframe\">\n  <thead>\n    <tr style=\"text-align: right;\">\n      <th></th>\n      <th>id</th>\n      <th>Label_1</th>\n      <th>Label_2</th>\n      <th>Original</th>\n      <th>Quantity</th>\n      <th>Price</th>\n      <th>Text</th>\n    </tr>\n  </thead>\n  <tbody>\n    <tr>\n      <th>0</th>\n      <td>0</td>\n      <td>45</td>\n      <td>12</td>\n      <td>#$ACETO.TRIA+SULFNEO+GRAM+NIST POM G LE</td>\n      <td>1</td>\n      <td>20.00</td>\n      <td>ACETOTRIA SULFNEO GRAM NIST POM G LE</td>\n    </tr>\n    <tr>\n      <th>1</th>\n      <td>1</td>\n      <td>45</td>\n      <td>12</td>\n      <td>#$ACETO.TRIA+SULFNEO+GRAM+NIST POM G LE</td>\n      <td>1</td>\n      <td>20.00</td>\n      <td>ACETOTRIA SULFNEO GRAM NIST POM G LE</td>\n    </tr>\n    <tr>\n      <th>2</th>\n      <td>2</td>\n      <td>45</td>\n      <td>12</td>\n      <td>#$ACETO.TRIA+SULFNEO+GRAM+NIST POM G LE</td>\n      <td>1</td>\n      <td>20.00</td>\n      <td>ACETOTRIA SULFNEO GRAM NIST POM G LE</td>\n    </tr>\n    <tr>\n      <th>3</th>\n      <td>3</td>\n      <td>45</td>\n      <td>12</td>\n      <td>#$ACETO.TRIA+SULFNEO+GRAM+NIST POM G LE</td>\n      <td>1</td>\n      <td>20.00</td>\n      <td>ACETOTRIA SULFNEO GRAM NIST POM G LE</td>\n    </tr>\n    <tr>\n      <th>4</th>\n      <td>4</td>\n      <td>291</td>\n      <td>153</td>\n      <td>#$BACTRONEO POM 20MG/G C/15G NEOQU</td>\n      <td>8</td>\n      <td>30.00</td>\n      <td>BACTRONEO POM 20MG G C 15G NEOQU</td>\n    </tr>\n    <tr>\n      <th>...</th>\n      <td>...</td>\n      <td>...</td>\n      <td>...</td>\n      <td>...</td>\n      <td>...</td>\n      <td>...</td>\n      <td>...</td>\n    </tr>\n    <tr>\n      <th>21111</th>\n      <td>21111</td>\n      <td>3258</td>\n      <td>1572</td>\n      <td>ZYPRED SOL OFT 6ML</td>\n      <td>2</td>\n      <td>68.63</td>\n      <td>ZYPRED SOL OFT 6ML</td>\n    </tr>\n    <tr>\n      <th>21112</th>\n      <td>21112</td>\n      <td>3258</td>\n      <td>1572</td>\n      <td>ZYPRED SOL OFT C/6ML</td>\n      <td>1</td>\n      <td>70.84</td>\n      <td>ZYPRED SOL OFT C 6ML</td>\n    </tr>\n    <tr>\n      <th>21113</th>\n      <td>21113</td>\n      <td>3258</td>\n      <td>1572</td>\n      <td>ZYPRED SOL OFT C/6ML</td>\n      <td>1</td>\n      <td>70.84</td>\n      <td>ZYPRED SOL OFT C 6ML</td>\n    </tr>\n    <tr>\n      <th>21114</th>\n      <td>21114</td>\n      <td>3258</td>\n      <td>1572</td>\n      <td>ZYPRED SOL OFT C/6ML</td>\n      <td>1</td>\n      <td>70.84</td>\n      <td>ZYPRED SOL OFT C 6ML</td>\n    </tr>\n    <tr>\n      <th>21115</th>\n      <td>21115</td>\n      <td>3259</td>\n      <td>1572</td>\n      <td>ZYPRED SUSP OFT 3ML  POS</td>\n      <td>2</td>\n      <td>35.07</td>\n      <td>ZYPRED SUSP OFT 3ML  POS</td>\n    </tr>\n  </tbody>\n</table>\n<p>21116 rows × 7 columns</p>\n</div>"
     },
     "metadata": {},
     "execution_count": 8
    }
   ],
   "source": [
    "# removing special characters\n",
    "df['Text'] = df['Text'].replace('[.]', '', regex=True)\n",
    "df['Text'] = df['Text'].replace('\\W', ' ', regex=True)\n",
    "df"
   ]
  },
  {
   "cell_type": "code",
   "execution_count": 9,
   "metadata": {},
   "outputs": [],
   "source": [
    "# removing cases with batch information (Lote)\n",
    "df['Text'] = df['Text'].replace('( LOT).*', '', regex=True)\n",
    "df['Text'] = df['Text'].replace('( LT).*', '', regex=True)"
   ]
  },
  {
   "cell_type": "code",
   "execution_count": 10,
   "metadata": {},
   "outputs": [],
   "source": [
    "# removing cases with item information\n",
    "df['Text'] = df['Text'].replace('ITEM', '', regex=True)\n",
    "df['Text'] = df['Text'].replace('^\\d+\\s+', '', regex=True).str.strip()"
   ]
  },
  {
   "cell_type": "code",
   "execution_count": 11,
   "metadata": {},
   "outputs": [],
   "source": [
    "# removing remaining spaces\n",
    "df['Text'] = df['Text'].replace('   ', ' ', regex=True)\n",
    "df['Text'] = df['Text'].replace('  ', ' ', regex=True)"
   ]
  },
  {
   "cell_type": "code",
   "execution_count": 12,
   "metadata": {},
   "outputs": [],
   "source": [
    "# removing extra numbers in beginning of strings\n",
    "df['Text'] = df['Text'].replace('^\\d+\\s+', '', regex=True).str.strip()\n",
    "df['Text'] = df['Text'].replace('^\\d+\\s+', '', regex=True).str.strip()"
   ]
  },
  {
   "cell_type": "code",
   "execution_count": 13,
   "metadata": {},
   "outputs": [
    {
     "output_type": "execute_result",
     "data": {
      "text/plain": [
       "          id  Label_1  Label_2                                 Original  \\\n",
       "0          0       45       12  #$ACETO.TRIA+SULFNEO+GRAM+NIST POM G LE   \n",
       "1          1       45       12  #$ACETO.TRIA+SULFNEO+GRAM+NIST POM G LE   \n",
       "2          2       45       12  #$ACETO.TRIA+SULFNEO+GRAM+NIST POM G LE   \n",
       "3          3       45       12  #$ACETO.TRIA+SULFNEO+GRAM+NIST POM G LE   \n",
       "4          4      291      153       #$BACTRONEO POM 20MG/G C/15G NEOQU   \n",
       "...      ...      ...      ...                                      ...   \n",
       "21111  21111     3258     1572                       ZYPRED SOL OFT 6ML   \n",
       "21112  21112     3258     1572                     ZYPRED SOL OFT C/6ML   \n",
       "21113  21113     3258     1572                     ZYPRED SOL OFT C/6ML   \n",
       "21114  21114     3258     1572                     ZYPRED SOL OFT C/6ML   \n",
       "21115  21115     3259     1572                 ZYPRED SUSP OFT 3ML  POS   \n",
       "\n",
       "       Quantity  Price                                Text  \n",
       "0             1  20.00  ACETOTRIA SULFNEO GRAM NIST POM LE  \n",
       "1             1  20.00  ACETOTRIA SULFNEO GRAM NIST POM LE  \n",
       "2             1  20.00  ACETOTRIA SULFNEO GRAM NIST POM LE  \n",
       "3             1  20.00  ACETOTRIA SULFNEO GRAM NIST POM LE  \n",
       "4             8  30.00      BACTRONEO POM 20MG C 15G NEOQU  \n",
       "...         ...    ...                                 ...  \n",
       "21111         2  68.63                  ZYPRED SOL OFT 6ML  \n",
       "21112         1  70.84                  ZYPRED SOL OFT 6ML  \n",
       "21113         1  70.84                  ZYPRED SOL OFT 6ML  \n",
       "21114         1  70.84                  ZYPRED SOL OFT 6ML  \n",
       "21115         2  35.07             ZYPRED SUSP OFT 3ML POS  \n",
       "\n",
       "[21116 rows x 7 columns]"
      ],
      "text/html": "<div>\n<style scoped>\n    .dataframe tbody tr th:only-of-type {\n        vertical-align: middle;\n    }\n\n    .dataframe tbody tr th {\n        vertical-align: top;\n    }\n\n    .dataframe thead th {\n        text-align: right;\n    }\n</style>\n<table border=\"1\" class=\"dataframe\">\n  <thead>\n    <tr style=\"text-align: right;\">\n      <th></th>\n      <th>id</th>\n      <th>Label_1</th>\n      <th>Label_2</th>\n      <th>Original</th>\n      <th>Quantity</th>\n      <th>Price</th>\n      <th>Text</th>\n    </tr>\n  </thead>\n  <tbody>\n    <tr>\n      <th>0</th>\n      <td>0</td>\n      <td>45</td>\n      <td>12</td>\n      <td>#$ACETO.TRIA+SULFNEO+GRAM+NIST POM G LE</td>\n      <td>1</td>\n      <td>20.00</td>\n      <td>ACETOTRIA SULFNEO GRAM NIST POM LE</td>\n    </tr>\n    <tr>\n      <th>1</th>\n      <td>1</td>\n      <td>45</td>\n      <td>12</td>\n      <td>#$ACETO.TRIA+SULFNEO+GRAM+NIST POM G LE</td>\n      <td>1</td>\n      <td>20.00</td>\n      <td>ACETOTRIA SULFNEO GRAM NIST POM LE</td>\n    </tr>\n    <tr>\n      <th>2</th>\n      <td>2</td>\n      <td>45</td>\n      <td>12</td>\n      <td>#$ACETO.TRIA+SULFNEO+GRAM+NIST POM G LE</td>\n      <td>1</td>\n      <td>20.00</td>\n      <td>ACETOTRIA SULFNEO GRAM NIST POM LE</td>\n    </tr>\n    <tr>\n      <th>3</th>\n      <td>3</td>\n      <td>45</td>\n      <td>12</td>\n      <td>#$ACETO.TRIA+SULFNEO+GRAM+NIST POM G LE</td>\n      <td>1</td>\n      <td>20.00</td>\n      <td>ACETOTRIA SULFNEO GRAM NIST POM LE</td>\n    </tr>\n    <tr>\n      <th>4</th>\n      <td>4</td>\n      <td>291</td>\n      <td>153</td>\n      <td>#$BACTRONEO POM 20MG/G C/15G NEOQU</td>\n      <td>8</td>\n      <td>30.00</td>\n      <td>BACTRONEO POM 20MG C 15G NEOQU</td>\n    </tr>\n    <tr>\n      <th>...</th>\n      <td>...</td>\n      <td>...</td>\n      <td>...</td>\n      <td>...</td>\n      <td>...</td>\n      <td>...</td>\n      <td>...</td>\n    </tr>\n    <tr>\n      <th>21111</th>\n      <td>21111</td>\n      <td>3258</td>\n      <td>1572</td>\n      <td>ZYPRED SOL OFT 6ML</td>\n      <td>2</td>\n      <td>68.63</td>\n      <td>ZYPRED SOL OFT 6ML</td>\n    </tr>\n    <tr>\n      <th>21112</th>\n      <td>21112</td>\n      <td>3258</td>\n      <td>1572</td>\n      <td>ZYPRED SOL OFT C/6ML</td>\n      <td>1</td>\n      <td>70.84</td>\n      <td>ZYPRED SOL OFT 6ML</td>\n    </tr>\n    <tr>\n      <th>21113</th>\n      <td>21113</td>\n      <td>3258</td>\n      <td>1572</td>\n      <td>ZYPRED SOL OFT C/6ML</td>\n      <td>1</td>\n      <td>70.84</td>\n      <td>ZYPRED SOL OFT 6ML</td>\n    </tr>\n    <tr>\n      <th>21114</th>\n      <td>21114</td>\n      <td>3258</td>\n      <td>1572</td>\n      <td>ZYPRED SOL OFT C/6ML</td>\n      <td>1</td>\n      <td>70.84</td>\n      <td>ZYPRED SOL OFT 6ML</td>\n    </tr>\n    <tr>\n      <th>21115</th>\n      <td>21115</td>\n      <td>3259</td>\n      <td>1572</td>\n      <td>ZYPRED SUSP OFT 3ML  POS</td>\n      <td>2</td>\n      <td>35.07</td>\n      <td>ZYPRED SUSP OFT 3ML POS</td>\n    </tr>\n  </tbody>\n</table>\n<p>21116 rows × 7 columns</p>\n</div>"
     },
     "metadata": {},
     "execution_count": 13
    }
   ],
   "source": [
    "# removing single characters\n",
    "df['Text'] = df['Text'].replace(' \\w ',' ', regex=True).str.strip()\n",
    "df['Text'] = df['Text'].replace('^\\w ','', regex=True).str.strip()\n",
    "df"
   ]
  },
  {
   "cell_type": "code",
   "execution_count": 14,
   "metadata": {},
   "outputs": [],
   "source": [
    "# saving data with basic cleaning\n",
    "df.to_excel(\"../dataset/clean_dataset.xlsx\", index=False)"
   ]
  },
  {
   "cell_type": "code",
   "execution_count": 16,
   "metadata": {},
   "outputs": [],
   "source": [
    "# removing filler words and replacing common abbreviations\n",
    "df['Text'] = df['Text'].replace(' DE ', ' ', regex=True)\n",
    "df['Text'] = df['Text'].replace('ACET ', 'ACETATO ', regex=True)\n",
    "df['Text'] = df['Text'].replace('AC ', 'ACIDO ', regex=True)\n",
    "df['Text'] = df['Text'].replace('ANEST ', 'ANESTESICO ', regex=True)\n",
    "df['Text'] = df['Text'].replace('ATAD ', 'ATADURA ', regex=True)\n",
    "df['Text'] = df['Text'].replace(' XPE ', ' XAROPE ', regex=True)\n",
    "df['Text'] = df['Text'].replace(' XP ', ' XAROPE ', regex=True)"
   ]
  },
  {
   "cell_type": "code",
   "execution_count": 17,
   "metadata": {},
   "outputs": [],
   "source": [
    "# replacing common abbreviations for \"Besilato\"\n",
    "df['Text'] = df['Text'].replace('BESIL ', 'BESILATO ', regex=True)\n",
    "df['Text'] = df['Text'].replace('BES ', 'BESILATO ', regex=True)\n",
    "df['Text'] = df['Text'].replace('BESILAT ', 'BESILATO ', regex=True)"
   ]
  },
  {
   "cell_type": "code",
   "execution_count": 18,
   "metadata": {},
   "outputs": [],
   "source": [
    "# replacing common abbreviations for \"Pomada\"\n",
    "df['Text'] = df['Text'].replace(' PO ', ' POMADA ', regex=True)\n",
    "df['Text'] = df['Text'].replace(' POM ', ' POMADA ', regex=True)\n",
    "df['Text'] = df['Text'].replace(' PMD ', ' POMADA ', regex=True)\n",
    "df['Text'] = df['Text'].replace(' POMAD ', ' POMADA ', regex=True)\n",
    "df['Text'] = df['Text'].replace(' PDA ', ' POMADA ', regex=True)"
   ]
  },
  {
   "cell_type": "code",
   "execution_count": 19,
   "metadata": {},
   "outputs": [],
   "source": [
    "# replacing common abbreviations for \"Creme\"\n",
    "df['Text'] = df['Text'].replace(' CRE ', ' CREME ', regex=True)\n",
    "df['Text'] = df['Text'].replace(' CREM ', ' CREME ', regex=True)\n",
    "df['Text'] = df['Text'].replace(' CR ', ' CREME ', regex=True)"
   ]
  },
  {
   "cell_type": "code",
   "execution_count": 20,
   "metadata": {},
   "outputs": [],
   "source": [
    "# removing medicine category\n",
    "df['Text'] = df['Text'].replace(' A1 ', ' ', regex=True)\n",
    "df['Text'] = df['Text'].replace(' A2 ', ' ', regex=True)\n",
    "df['Text'] = df['Text'].replace(' A3 ', ' ', regex=True)\n",
    "df['Text'] = df['Text'].replace(' B1 ', ' ', regex=True)\n",
    "df['Text'] = df['Text'].replace(' B2 ', ' ', regex=True)\n",
    "df['Text'] = df['Text'].replace(' C1 ', ' ', regex=True)"
   ]
  },
  {
   "cell_type": "code",
   "execution_count": 21,
   "metadata": {},
   "outputs": [],
   "source": [
    "# saving data with average cleaning\n",
    "df.to_excel(\"../dataset/clean_dataset+.xlsx\", index=False)"
   ]
  },
  {
   "cell_type": "code",
   "execution_count": 22,
   "metadata": {},
   "outputs": [
    {
     "output_type": "execute_result",
     "data": {
      "text/plain": [
       "    id  Label_1  Label_2                                           Original  \\\n",
       "0    0       45       12            #$ACETO.TRIA+SULFNEO+GRAM+NIST POM G LE   \n",
       "1    1       45       12            #$ACETO.TRIA+SULFNEO+GRAM+NIST POM G LE   \n",
       "2    2       45       12            #$ACETO.TRIA+SULFNEO+GRAM+NIST POM G LE   \n",
       "3    3       45       12            #$ACETO.TRIA+SULFNEO+GRAM+NIST POM G LE   \n",
       "4    4      291      153                 #$BACTRONEO POM 20MG/G C/15G NEOQU   \n",
       "5    5     1191      595   #ESCITALOPRAM 10MG C1 - CX. C/ 30 COMP REV PHARL   \n",
       "6    6     2849     1379  #SULFAMETOXAZOL+TRIM. 800+160MG C/10 COM 78961...   \n",
       "7    7      555      728                  #VENLAFAXINA 150MG C/ 30 GEOLA C1   \n",
       "8    8      555      728                  #VENLAFAXINA 150MG C/ 30 GEOLA C1   \n",
       "9    9     1037      530               $DOMPERIDONA 10MG 2BLTX15 COMP G LEG   \n",
       "10  10     2574     1276                          $REPOFLOR 200MG C/6 LEGRA   \n",
       "11  11      425      240                * CARBAMAZEPINA 200MG COMP UNIAO C1   \n",
       "12  12      425      240                * CARBAMAZEPINA 200MG COMP UNIAO C1   \n",
       "13  13      425      240                * CARBAMAZEPINA 200MG COMP UNIAO C1   \n",
       "14  14      943      507            * DIMORF 0,1MG/ML 1ML SULFATO CRISTALIA   \n",
       "15  15      943      507            * DIMORF 0,1MG/ML 1ML SULFATO CRISTALIA   \n",
       "16  16     1269      631                * FENITOINA 100MG COMP HIPOLABOR C1   \n",
       "17  17     1269      631                * FENITOINA 100MG COMP HIPOLABOR C1   \n",
       "18  18     1269      631                * FENITOINA 100MG COMP HIPOLABOR C1   \n",
       "19  19     1269      631                * FENITOINA 100MG COMP HIPOLABOR C1   \n",
       "20  20     1269      631                * FENITOINA 100MG COMP HIPOLABOR C1   \n",
       "21  21     1269      631                * FENITOINA 100MG COMP HIPOLABOR C1   \n",
       "22  22     1269      631                * FENITOINA 100MG COMP HIPOLABOR C1   \n",
       "23  23     1269      631                * FENITOINA 100MG COMP HIPOLABOR C1   \n",
       "24  24     1269      631                * FENITOINA 100MG COMP HIPOLABOR C1   \n",
       "25  25     1269      631                    * FENITOINA 100MG COMP TEUTO A3   \n",
       "26  26     3262      794                * HALOPERIDOL 1MG COMP CRISTALIA C1   \n",
       "27  27     2119     1070                    * NEULEPTIL 10MG 20CP SANOFI C1   \n",
       "28  28     2119     1070                    * NEULEPTIL 10MG 20CP SANOFI C1   \n",
       "29  29     2119     1070                    * NEULEPTIL 10MG 20CP SANOFI C1   \n",
       "30  30     2120     1070                  * NEULEPTIL 4% SOL 20ML SANOFI C1   \n",
       "31  31     2120     1070                  * NEULEPTIL 4% SOL 20ML SANOFI C1   \n",
       "32  32     2120     1070                  * NEULEPTIL 4% SOL 20ML SANOFI C1   \n",
       "33  33     2514     1245        * PROPOFOL 10MG/ML 20ML PROPOTIL LISTA C C1   \n",
       "34  34     2514     1245        * PROPOFOL 10MG/ML 20ML PROPOTIL LISTA C C1   \n",
       "35  35     2514     1245        * PROPOFOL 10MG/ML 20ML PROPOTIL LISTA C C1   \n",
       "36  36     2514     1245        * PROPOFOL 10MG/ML 20ML PROPOTIL LISTA C C1   \n",
       "37  37     2514     1245        * PROPOFOL 10MG/ML 20ML PROPOTIL LISTA C C1   \n",
       "38  38     2514     1245        * PROPOFOL 10MG/ML 20ML PROPOTIL LISTA C C1   \n",
       "39  39     2514     1245        * PROPOFOL 10MG/ML 20ML PROPOTIL LISTA C C1   \n",
       "40  40     2514     1245        * PROPOFOL 10MG/ML 20ML PROPOTIL LISTA C C1   \n",
       "41  41     2693      715          * SERTRALINA CLORIDRATO 50MG C/28 COMP C1   \n",
       "42  42     2693      715          * SERTRALINA CLORIDRATO 50MG C/28 COMP C1   \n",
       "43  43     2693      715          * SERTRALINA CLORIDRATO 50MG C/28 COMP C1   \n",
       "44  44     2693      715          * SERTRALINA CLORIDRATO 50MG C/28 COMP C1   \n",
       "45  45     2693      715          * SERTRALINA CLORIDRATO 50MG C/28 COMP C1   \n",
       "46  46     2693      715          * SERTRALINA CLORIDRATO 50MG C/28 COMP C1   \n",
       "47  47     2693      715          * SERTRALINA CLORIDRATO 50MG C/28 COMP C1   \n",
       "48  48     2693      715          * SERTRALINA CLORIDRATO 50MG C/28 COMP C1   \n",
       "49  49     2693      715          * SERTRALINA CLORIDRATO 50MG C/28 COMP C1   \n",
       "50  50     2693      715          * SERTRALINA CLORIDRATO 50MG C/28 COMP C1   \n",
       "51  51     2693      715          * SERTRALINA CLORIDRATO 50MG C/28 COMP C1   \n",
       "52  52     2693      715          * SERTRALINA CLORIDRATO 50MG C/28 COMP C1   \n",
       "53  53     2693      715          * SERTRALINA CLORIDRATO 50MG C/28 COMP C1   \n",
       "54  54     2693      715          * SERTRALINA CLORIDRATO 50MG C/28 COMP C1   \n",
       "55  55     2693      715          * SERTRALINA CLORIDRATO 50MG C/28 COMP C1   \n",
       "56  56     2693      715          * SERTRALINA CLORIDRATO 50MG C/28 COMP C1   \n",
       "57  57     2696     1327          * SEVOFLURANO 1MG/ML VOFLUR INAL 250ML C1   \n",
       "58  58     2696     1327          * SEVOFLURANO 1MG/ML VOFLUR INAL 250ML C1   \n",
       "59  59     2696     1327          * SEVOFLURANO 1MG/ML VOFLUR INAL 250ML C1   \n",
       "\n",
       "    Quantity   Price                                               Text  \\\n",
       "0          1   20.00              ACETOTRIA SULFNEO GRAM NIST POMADA LE   \n",
       "1          1   20.00              ACETOTRIA SULFNEO GRAM NIST POMADA LE   \n",
       "2          1   20.00              ACETOTRIA SULFNEO GRAM NIST POMADA LE   \n",
       "3          1   20.00              ACETOTRIA SULFNEO GRAM NIST POMADA LE   \n",
       "4          8   30.00                  BACTRONEO POMADA 20MG C 15G NEOQU   \n",
       "5          1   24.99             ESCITALOPRAM 10MG CX 30 COMP REV PHARL   \n",
       "6          5   11.40  SULFAMETOXAZOL TRIM 800 160MG 10 COM 789611213...   \n",
       "7          2  101.93                      VENLAFAXINA 150MG 30 GEOLA C1   \n",
       "8          2  101.93                      VENLAFAXINA 150MG 30 GEOLA C1   \n",
       "9          1   10.00                  DOMPERIDONA 10MG 2BLTX15 COMP LEG   \n",
       "10         1   20.00                             REPOFLOR 200MG 6 LEGRA   \n",
       "11       200    0.18                  CARBAMAZEPINA 200MG COMP UNIAO C1   \n",
       "12      2000    0.14                  CARBAMAZEPINA 200MG COMP UNIAO C1   \n",
       "13      1400    0.14                  CARBAMAZEPINA 200MG COMP UNIAO C1   \n",
       "14       200   11.90                DIMORF 1MG ML 1ML SULFATO CRISTALIA   \n",
       "15       200   11.90                DIMORF 1MG ML 1ML SULFATO CRISTALIA   \n",
       "16      1000    0.30                  FENITOINA 100MG COMP HIPOLABOR C1   \n",
       "17      1000    0.30                  FENITOINA 100MG COMP HIPOLABOR C1   \n",
       "18      5000    0.18                  FENITOINA 100MG COMP HIPOLABOR C1   \n",
       "19       600    0.18                  FENITOINA 100MG COMP HIPOLABOR C1   \n",
       "20       600    0.18                  FENITOINA 100MG COMP HIPOLABOR C1   \n",
       "21      4000    0.53                  FENITOINA 100MG COMP HIPOLABOR C1   \n",
       "22      1000    0.30                  FENITOINA 100MG COMP HIPOLABOR C1   \n",
       "23      1000    0.30                  FENITOINA 100MG COMP HIPOLABOR C1   \n",
       "24      1000    0.30                  FENITOINA 100MG COMP HIPOLABOR C1   \n",
       "25        60    0.20                      FENITOINA 100MG COMP TEUTO A3   \n",
       "26       300    0.16                  HALOPERIDOL 1MG COMP CRISTALIA C1   \n",
       "27        10   10.20                      NEULEPTIL 10MG 20CP SANOFI C1   \n",
       "28        13   11.00                      NEULEPTIL 10MG 20CP SANOFI C1   \n",
       "29        10   10.20                      NEULEPTIL 10MG 20CP SANOFI C1   \n",
       "30        10   20.00                       NEULEPTIL SOL 20ML SANOFI C1   \n",
       "31        10   20.00                       NEULEPTIL SOL 20ML SANOFI C1   \n",
       "32        10   20.49                       NEULEPTIL SOL 20ML SANOFI C1   \n",
       "33       500    7.50            PROPOFOL 10MG ML 20ML PROPOTIL LISTA C1   \n",
       "34      1000    9.00            PROPOFOL 10MG ML 20ML PROPOTIL LISTA C1   \n",
       "35      3000    9.00            PROPOFOL 10MG ML 20ML PROPOTIL LISTA C1   \n",
       "36      1000    9.00            PROPOFOL 10MG ML 20ML PROPOTIL LISTA C1   \n",
       "37      3000    9.00            PROPOFOL 10MG ML 20ML PROPOTIL LISTA C1   \n",
       "38       800    7.50            PROPOFOL 10MG ML 20ML PROPOTIL LISTA C1   \n",
       "39        60    7.54            PROPOFOL 10MG ML 20ML PROPOTIL LISTA C1   \n",
       "40        50    9.28            PROPOFOL 10MG ML 20ML PROPOTIL LISTA C1   \n",
       "41        72    6.44              SERTRALINA CLORIDRATO 50MG 28 COMP C1   \n",
       "42        71    6.44              SERTRALINA CLORIDRATO 50MG 28 COMP C1   \n",
       "43        52    6.44              SERTRALINA CLORIDRATO 50MG 28 COMP C1   \n",
       "44        15    7.15              SERTRALINA CLORIDRATO 50MG 28 COMP C1   \n",
       "45        52    6.44              SERTRALINA CLORIDRATO 50MG 28 COMP C1   \n",
       "46        52    6.44              SERTRALINA CLORIDRATO 50MG 28 COMP C1   \n",
       "47        71    6.44              SERTRALINA CLORIDRATO 50MG 28 COMP C1   \n",
       "48        71    6.44              SERTRALINA CLORIDRATO 50MG 28 COMP C1   \n",
       "49        35    9.52              SERTRALINA CLORIDRATO 50MG 28 COMP C1   \n",
       "50         7    8.94              SERTRALINA CLORIDRATO 50MG 28 COMP C1   \n",
       "51        50    6.16              SERTRALINA CLORIDRATO 50MG 28 COMP C1   \n",
       "52        52    6.44              SERTRALINA CLORIDRATO 50MG 28 COMP C1   \n",
       "53        52    6.44              SERTRALINA CLORIDRATO 50MG 28 COMP C1   \n",
       "54        20   11.18              SERTRALINA CLORIDRATO 50MG 28 COMP C1   \n",
       "55        10   11.20              SERTRALINA CLORIDRATO 50MG 28 COMP C1   \n",
       "56         9   11.18              SERTRALINA CLORIDRATO 50MG 28 COMP C1   \n",
       "57         5  500.00            SEVOFLURANO 1MG ML VOFLUR INAL 250ML C1   \n",
       "58         5  500.00            SEVOFLURANO 1MG ML VOFLUR INAL 250ML C1   \n",
       "59         5  500.00            SEVOFLURANO 1MG ML VOFLUR INAL 250ML C1   \n",
       "\n",
       "               Temp          Sec                       Thir  \n",
       "0        ACETOTRIA      SULFNEO                              \n",
       "1        ACETOTRIA      SULFNEO                              \n",
       "2        ACETOTRIA      SULFNEO                              \n",
       "3        ACETOTRIA      SULFNEO                              \n",
       "4        BACTRONEO       POMADA                      20  15  \n",
       "5     ESCITALOPRAM                                   10  30  \n",
       "6   SULFAMETOXAZOL         TRIM   800 160 10  7896112132875  \n",
       "7      VENLAFAXINA                                150 30  1  \n",
       "8      VENLAFAXINA                                150 30  1  \n",
       "9      DOMPERIDONA                                   10 215  \n",
       "10        REPOFLOR                                    200 6  \n",
       "11   CARBAMAZEPINA                                  200   1  \n",
       "12   CARBAMAZEPINA                                  200   1  \n",
       "13   CARBAMAZEPINA                                  200   1  \n",
       "14          DIMORF                                     1  1  \n",
       "15          DIMORF                                     1  1  \n",
       "16       FENITOINA                                  100   1  \n",
       "17       FENITOINA                                  100   1  \n",
       "18       FENITOINA                                  100   1  \n",
       "19       FENITOINA                                  100   1  \n",
       "20       FENITOINA                                  100   1  \n",
       "21       FENITOINA                                  100   1  \n",
       "22       FENITOINA                                  100   1  \n",
       "23       FENITOINA                                  100   1  \n",
       "24       FENITOINA                                  100   1  \n",
       "25       FENITOINA                                  100   3  \n",
       "26     HALOPERIDOL                                    1   1  \n",
       "27       NEULEPTIL                                 10 20  1  \n",
       "28       NEULEPTIL                                 10 20  1  \n",
       "29       NEULEPTIL                                 10 20  1  \n",
       "30       NEULEPTIL          SOL                       20  1  \n",
       "31       NEULEPTIL          SOL                       20  1  \n",
       "32       NEULEPTIL          SOL                       20  1  \n",
       "33        PROPOFOL                               10  20   1  \n",
       "34        PROPOFOL                               10  20   1  \n",
       "35        PROPOFOL                               10  20   1  \n",
       "36        PROPOFOL                               10  20   1  \n",
       "37        PROPOFOL                               10  20   1  \n",
       "38        PROPOFOL                               10  20   1  \n",
       "39        PROPOFOL                               10  20   1  \n",
       "40        PROPOFOL                               10  20   1  \n",
       "41      SERTRALINA   CLORIDRATO                    50 28  1  \n",
       "42      SERTRALINA   CLORIDRATO                    50 28  1  \n",
       "43      SERTRALINA   CLORIDRATO                    50 28  1  \n",
       "44      SERTRALINA   CLORIDRATO                    50 28  1  \n",
       "45      SERTRALINA   CLORIDRATO                    50 28  1  \n",
       "46      SERTRALINA   CLORIDRATO                    50 28  1  \n",
       "47      SERTRALINA   CLORIDRATO                    50 28  1  \n",
       "48      SERTRALINA   CLORIDRATO                    50 28  1  \n",
       "49      SERTRALINA   CLORIDRATO                    50 28  1  \n",
       "50      SERTRALINA   CLORIDRATO                    50 28  1  \n",
       "51      SERTRALINA   CLORIDRATO                    50 28  1  \n",
       "52      SERTRALINA   CLORIDRATO                    50 28  1  \n",
       "53      SERTRALINA   CLORIDRATO                    50 28  1  \n",
       "54      SERTRALINA   CLORIDRATO                    50 28  1  \n",
       "55      SERTRALINA   CLORIDRATO                    50 28  1  \n",
       "56      SERTRALINA   CLORIDRATO                    50 28  1  \n",
       "57     SEVOFLURANO                               1    250 1  \n",
       "58     SEVOFLURANO                               1    250 1  \n",
       "59     SEVOFLURANO                               1    250 1  "
      ],
      "text/html": "<div>\n<style scoped>\n    .dataframe tbody tr th:only-of-type {\n        vertical-align: middle;\n    }\n\n    .dataframe tbody tr th {\n        vertical-align: top;\n    }\n\n    .dataframe thead th {\n        text-align: right;\n    }\n</style>\n<table border=\"1\" class=\"dataframe\">\n  <thead>\n    <tr style=\"text-align: right;\">\n      <th></th>\n      <th>id</th>\n      <th>Label_1</th>\n      <th>Label_2</th>\n      <th>Original</th>\n      <th>Quantity</th>\n      <th>Price</th>\n      <th>Text</th>\n      <th>Temp</th>\n      <th>Sec</th>\n      <th>Thir</th>\n    </tr>\n  </thead>\n  <tbody>\n    <tr>\n      <th>0</th>\n      <td>0</td>\n      <td>45</td>\n      <td>12</td>\n      <td>#$ACETO.TRIA+SULFNEO+GRAM+NIST POM G LE</td>\n      <td>1</td>\n      <td>20.00</td>\n      <td>ACETOTRIA SULFNEO GRAM NIST POMADA LE</td>\n      <td>ACETOTRIA</td>\n      <td>SULFNEO</td>\n      <td></td>\n    </tr>\n    <tr>\n      <th>1</th>\n      <td>1</td>\n      <td>45</td>\n      <td>12</td>\n      <td>#$ACETO.TRIA+SULFNEO+GRAM+NIST POM G LE</td>\n      <td>1</td>\n      <td>20.00</td>\n      <td>ACETOTRIA SULFNEO GRAM NIST POMADA LE</td>\n      <td>ACETOTRIA</td>\n      <td>SULFNEO</td>\n      <td></td>\n    </tr>\n    <tr>\n      <th>2</th>\n      <td>2</td>\n      <td>45</td>\n      <td>12</td>\n      <td>#$ACETO.TRIA+SULFNEO+GRAM+NIST POM G LE</td>\n      <td>1</td>\n      <td>20.00</td>\n      <td>ACETOTRIA SULFNEO GRAM NIST POMADA LE</td>\n      <td>ACETOTRIA</td>\n      <td>SULFNEO</td>\n      <td></td>\n    </tr>\n    <tr>\n      <th>3</th>\n      <td>3</td>\n      <td>45</td>\n      <td>12</td>\n      <td>#$ACETO.TRIA+SULFNEO+GRAM+NIST POM G LE</td>\n      <td>1</td>\n      <td>20.00</td>\n      <td>ACETOTRIA SULFNEO GRAM NIST POMADA LE</td>\n      <td>ACETOTRIA</td>\n      <td>SULFNEO</td>\n      <td></td>\n    </tr>\n    <tr>\n      <th>4</th>\n      <td>4</td>\n      <td>291</td>\n      <td>153</td>\n      <td>#$BACTRONEO POM 20MG/G C/15G NEOQU</td>\n      <td>8</td>\n      <td>30.00</td>\n      <td>BACTRONEO POMADA 20MG C 15G NEOQU</td>\n      <td>BACTRONEO</td>\n      <td>POMADA</td>\n      <td>20  15</td>\n    </tr>\n    <tr>\n      <th>5</th>\n      <td>5</td>\n      <td>1191</td>\n      <td>595</td>\n      <td>#ESCITALOPRAM 10MG C1 - CX. C/ 30 COMP REV PHARL</td>\n      <td>1</td>\n      <td>24.99</td>\n      <td>ESCITALOPRAM 10MG CX 30 COMP REV PHARL</td>\n      <td>ESCITALOPRAM</td>\n      <td></td>\n      <td>10  30</td>\n    </tr>\n    <tr>\n      <th>6</th>\n      <td>6</td>\n      <td>2849</td>\n      <td>1379</td>\n      <td>#SULFAMETOXAZOL+TRIM. 800+160MG C/10 COM 78961...</td>\n      <td>5</td>\n      <td>11.40</td>\n      <td>SULFAMETOXAZOL TRIM 800 160MG 10 COM 789611213...</td>\n      <td>SULFAMETOXAZOL</td>\n      <td>TRIM</td>\n      <td>800 160 10  7896112132875</td>\n    </tr>\n    <tr>\n      <th>7</th>\n      <td>7</td>\n      <td>555</td>\n      <td>728</td>\n      <td>#VENLAFAXINA 150MG C/ 30 GEOLA C1</td>\n      <td>2</td>\n      <td>101.93</td>\n      <td>VENLAFAXINA 150MG 30 GEOLA C1</td>\n      <td>VENLAFAXINA</td>\n      <td></td>\n      <td>150 30  1</td>\n    </tr>\n    <tr>\n      <th>8</th>\n      <td>8</td>\n      <td>555</td>\n      <td>728</td>\n      <td>#VENLAFAXINA 150MG C/ 30 GEOLA C1</td>\n      <td>2</td>\n      <td>101.93</td>\n      <td>VENLAFAXINA 150MG 30 GEOLA C1</td>\n      <td>VENLAFAXINA</td>\n      <td></td>\n      <td>150 30  1</td>\n    </tr>\n    <tr>\n      <th>9</th>\n      <td>9</td>\n      <td>1037</td>\n      <td>530</td>\n      <td>$DOMPERIDONA 10MG 2BLTX15 COMP G LEG</td>\n      <td>1</td>\n      <td>10.00</td>\n      <td>DOMPERIDONA 10MG 2BLTX15 COMP LEG</td>\n      <td>DOMPERIDONA</td>\n      <td></td>\n      <td>10 215</td>\n    </tr>\n    <tr>\n      <th>10</th>\n      <td>10</td>\n      <td>2574</td>\n      <td>1276</td>\n      <td>$REPOFLOR 200MG C/6 LEGRA</td>\n      <td>1</td>\n      <td>20.00</td>\n      <td>REPOFLOR 200MG 6 LEGRA</td>\n      <td>REPOFLOR</td>\n      <td></td>\n      <td>200 6</td>\n    </tr>\n    <tr>\n      <th>11</th>\n      <td>11</td>\n      <td>425</td>\n      <td>240</td>\n      <td>* CARBAMAZEPINA 200MG COMP UNIAO C1</td>\n      <td>200</td>\n      <td>0.18</td>\n      <td>CARBAMAZEPINA 200MG COMP UNIAO C1</td>\n      <td>CARBAMAZEPINA</td>\n      <td></td>\n      <td>200   1</td>\n    </tr>\n    <tr>\n      <th>12</th>\n      <td>12</td>\n      <td>425</td>\n      <td>240</td>\n      <td>* CARBAMAZEPINA 200MG COMP UNIAO C1</td>\n      <td>2000</td>\n      <td>0.14</td>\n      <td>CARBAMAZEPINA 200MG COMP UNIAO C1</td>\n      <td>CARBAMAZEPINA</td>\n      <td></td>\n      <td>200   1</td>\n    </tr>\n    <tr>\n      <th>13</th>\n      <td>13</td>\n      <td>425</td>\n      <td>240</td>\n      <td>* CARBAMAZEPINA 200MG COMP UNIAO C1</td>\n      <td>1400</td>\n      <td>0.14</td>\n      <td>CARBAMAZEPINA 200MG COMP UNIAO C1</td>\n      <td>CARBAMAZEPINA</td>\n      <td></td>\n      <td>200   1</td>\n    </tr>\n    <tr>\n      <th>14</th>\n      <td>14</td>\n      <td>943</td>\n      <td>507</td>\n      <td>* DIMORF 0,1MG/ML 1ML SULFATO CRISTALIA</td>\n      <td>200</td>\n      <td>11.90</td>\n      <td>DIMORF 1MG ML 1ML SULFATO CRISTALIA</td>\n      <td>DIMORF</td>\n      <td></td>\n      <td>1  1</td>\n    </tr>\n    <tr>\n      <th>15</th>\n      <td>15</td>\n      <td>943</td>\n      <td>507</td>\n      <td>* DIMORF 0,1MG/ML 1ML SULFATO CRISTALIA</td>\n      <td>200</td>\n      <td>11.90</td>\n      <td>DIMORF 1MG ML 1ML SULFATO CRISTALIA</td>\n      <td>DIMORF</td>\n      <td></td>\n      <td>1  1</td>\n    </tr>\n    <tr>\n      <th>16</th>\n      <td>16</td>\n      <td>1269</td>\n      <td>631</td>\n      <td>* FENITOINA 100MG COMP HIPOLABOR C1</td>\n      <td>1000</td>\n      <td>0.30</td>\n      <td>FENITOINA 100MG COMP HIPOLABOR C1</td>\n      <td>FENITOINA</td>\n      <td></td>\n      <td>100   1</td>\n    </tr>\n    <tr>\n      <th>17</th>\n      <td>17</td>\n      <td>1269</td>\n      <td>631</td>\n      <td>* FENITOINA 100MG COMP HIPOLABOR C1</td>\n      <td>1000</td>\n      <td>0.30</td>\n      <td>FENITOINA 100MG COMP HIPOLABOR C1</td>\n      <td>FENITOINA</td>\n      <td></td>\n      <td>100   1</td>\n    </tr>\n    <tr>\n      <th>18</th>\n      <td>18</td>\n      <td>1269</td>\n      <td>631</td>\n      <td>* FENITOINA 100MG COMP HIPOLABOR C1</td>\n      <td>5000</td>\n      <td>0.18</td>\n      <td>FENITOINA 100MG COMP HIPOLABOR C1</td>\n      <td>FENITOINA</td>\n      <td></td>\n      <td>100   1</td>\n    </tr>\n    <tr>\n      <th>19</th>\n      <td>19</td>\n      <td>1269</td>\n      <td>631</td>\n      <td>* FENITOINA 100MG COMP HIPOLABOR C1</td>\n      <td>600</td>\n      <td>0.18</td>\n      <td>FENITOINA 100MG COMP HIPOLABOR C1</td>\n      <td>FENITOINA</td>\n      <td></td>\n      <td>100   1</td>\n    </tr>\n    <tr>\n      <th>20</th>\n      <td>20</td>\n      <td>1269</td>\n      <td>631</td>\n      <td>* FENITOINA 100MG COMP HIPOLABOR C1</td>\n      <td>600</td>\n      <td>0.18</td>\n      <td>FENITOINA 100MG COMP HIPOLABOR C1</td>\n      <td>FENITOINA</td>\n      <td></td>\n      <td>100   1</td>\n    </tr>\n    <tr>\n      <th>21</th>\n      <td>21</td>\n      <td>1269</td>\n      <td>631</td>\n      <td>* FENITOINA 100MG COMP HIPOLABOR C1</td>\n      <td>4000</td>\n      <td>0.53</td>\n      <td>FENITOINA 100MG COMP HIPOLABOR C1</td>\n      <td>FENITOINA</td>\n      <td></td>\n      <td>100   1</td>\n    </tr>\n    <tr>\n      <th>22</th>\n      <td>22</td>\n      <td>1269</td>\n      <td>631</td>\n      <td>* FENITOINA 100MG COMP HIPOLABOR C1</td>\n      <td>1000</td>\n      <td>0.30</td>\n      <td>FENITOINA 100MG COMP HIPOLABOR C1</td>\n      <td>FENITOINA</td>\n      <td></td>\n      <td>100   1</td>\n    </tr>\n    <tr>\n      <th>23</th>\n      <td>23</td>\n      <td>1269</td>\n      <td>631</td>\n      <td>* FENITOINA 100MG COMP HIPOLABOR C1</td>\n      <td>1000</td>\n      <td>0.30</td>\n      <td>FENITOINA 100MG COMP HIPOLABOR C1</td>\n      <td>FENITOINA</td>\n      <td></td>\n      <td>100   1</td>\n    </tr>\n    <tr>\n      <th>24</th>\n      <td>24</td>\n      <td>1269</td>\n      <td>631</td>\n      <td>* FENITOINA 100MG COMP HIPOLABOR C1</td>\n      <td>1000</td>\n      <td>0.30</td>\n      <td>FENITOINA 100MG COMP HIPOLABOR C1</td>\n      <td>FENITOINA</td>\n      <td></td>\n      <td>100   1</td>\n    </tr>\n    <tr>\n      <th>25</th>\n      <td>25</td>\n      <td>1269</td>\n      <td>631</td>\n      <td>* FENITOINA 100MG COMP TEUTO A3</td>\n      <td>60</td>\n      <td>0.20</td>\n      <td>FENITOINA 100MG COMP TEUTO A3</td>\n      <td>FENITOINA</td>\n      <td></td>\n      <td>100   3</td>\n    </tr>\n    <tr>\n      <th>26</th>\n      <td>26</td>\n      <td>3262</td>\n      <td>794</td>\n      <td>* HALOPERIDOL 1MG COMP CRISTALIA C1</td>\n      <td>300</td>\n      <td>0.16</td>\n      <td>HALOPERIDOL 1MG COMP CRISTALIA C1</td>\n      <td>HALOPERIDOL</td>\n      <td></td>\n      <td>1   1</td>\n    </tr>\n    <tr>\n      <th>27</th>\n      <td>27</td>\n      <td>2119</td>\n      <td>1070</td>\n      <td>* NEULEPTIL 10MG 20CP SANOFI C1</td>\n      <td>10</td>\n      <td>10.20</td>\n      <td>NEULEPTIL 10MG 20CP SANOFI C1</td>\n      <td>NEULEPTIL</td>\n      <td></td>\n      <td>10 20  1</td>\n    </tr>\n    <tr>\n      <th>28</th>\n      <td>28</td>\n      <td>2119</td>\n      <td>1070</td>\n      <td>* NEULEPTIL 10MG 20CP SANOFI C1</td>\n      <td>13</td>\n      <td>11.00</td>\n      <td>NEULEPTIL 10MG 20CP SANOFI C1</td>\n      <td>NEULEPTIL</td>\n      <td></td>\n      <td>10 20  1</td>\n    </tr>\n    <tr>\n      <th>29</th>\n      <td>29</td>\n      <td>2119</td>\n      <td>1070</td>\n      <td>* NEULEPTIL 10MG 20CP SANOFI C1</td>\n      <td>10</td>\n      <td>10.20</td>\n      <td>NEULEPTIL 10MG 20CP SANOFI C1</td>\n      <td>NEULEPTIL</td>\n      <td></td>\n      <td>10 20  1</td>\n    </tr>\n    <tr>\n      <th>30</th>\n      <td>30</td>\n      <td>2120</td>\n      <td>1070</td>\n      <td>* NEULEPTIL 4% SOL 20ML SANOFI C1</td>\n      <td>10</td>\n      <td>20.00</td>\n      <td>NEULEPTIL SOL 20ML SANOFI C1</td>\n      <td>NEULEPTIL</td>\n      <td>SOL</td>\n      <td>20  1</td>\n    </tr>\n    <tr>\n      <th>31</th>\n      <td>31</td>\n      <td>2120</td>\n      <td>1070</td>\n      <td>* NEULEPTIL 4% SOL 20ML SANOFI C1</td>\n      <td>10</td>\n      <td>20.00</td>\n      <td>NEULEPTIL SOL 20ML SANOFI C1</td>\n      <td>NEULEPTIL</td>\n      <td>SOL</td>\n      <td>20  1</td>\n    </tr>\n    <tr>\n      <th>32</th>\n      <td>32</td>\n      <td>2120</td>\n      <td>1070</td>\n      <td>* NEULEPTIL 4% SOL 20ML SANOFI C1</td>\n      <td>10</td>\n      <td>20.49</td>\n      <td>NEULEPTIL SOL 20ML SANOFI C1</td>\n      <td>NEULEPTIL</td>\n      <td>SOL</td>\n      <td>20  1</td>\n    </tr>\n    <tr>\n      <th>33</th>\n      <td>33</td>\n      <td>2514</td>\n      <td>1245</td>\n      <td>* PROPOFOL 10MG/ML 20ML PROPOTIL LISTA C C1</td>\n      <td>500</td>\n      <td>7.50</td>\n      <td>PROPOFOL 10MG ML 20ML PROPOTIL LISTA C1</td>\n      <td>PROPOFOL</td>\n      <td></td>\n      <td>10  20   1</td>\n    </tr>\n    <tr>\n      <th>34</th>\n      <td>34</td>\n      <td>2514</td>\n      <td>1245</td>\n      <td>* PROPOFOL 10MG/ML 20ML PROPOTIL LISTA C C1</td>\n      <td>1000</td>\n      <td>9.00</td>\n      <td>PROPOFOL 10MG ML 20ML PROPOTIL LISTA C1</td>\n      <td>PROPOFOL</td>\n      <td></td>\n      <td>10  20   1</td>\n    </tr>\n    <tr>\n      <th>35</th>\n      <td>35</td>\n      <td>2514</td>\n      <td>1245</td>\n      <td>* PROPOFOL 10MG/ML 20ML PROPOTIL LISTA C C1</td>\n      <td>3000</td>\n      <td>9.00</td>\n      <td>PROPOFOL 10MG ML 20ML PROPOTIL LISTA C1</td>\n      <td>PROPOFOL</td>\n      <td></td>\n      <td>10  20   1</td>\n    </tr>\n    <tr>\n      <th>36</th>\n      <td>36</td>\n      <td>2514</td>\n      <td>1245</td>\n      <td>* PROPOFOL 10MG/ML 20ML PROPOTIL LISTA C C1</td>\n      <td>1000</td>\n      <td>9.00</td>\n      <td>PROPOFOL 10MG ML 20ML PROPOTIL LISTA C1</td>\n      <td>PROPOFOL</td>\n      <td></td>\n      <td>10  20   1</td>\n    </tr>\n    <tr>\n      <th>37</th>\n      <td>37</td>\n      <td>2514</td>\n      <td>1245</td>\n      <td>* PROPOFOL 10MG/ML 20ML PROPOTIL LISTA C C1</td>\n      <td>3000</td>\n      <td>9.00</td>\n      <td>PROPOFOL 10MG ML 20ML PROPOTIL LISTA C1</td>\n      <td>PROPOFOL</td>\n      <td></td>\n      <td>10  20   1</td>\n    </tr>\n    <tr>\n      <th>38</th>\n      <td>38</td>\n      <td>2514</td>\n      <td>1245</td>\n      <td>* PROPOFOL 10MG/ML 20ML PROPOTIL LISTA C C1</td>\n      <td>800</td>\n      <td>7.50</td>\n      <td>PROPOFOL 10MG ML 20ML PROPOTIL LISTA C1</td>\n      <td>PROPOFOL</td>\n      <td></td>\n      <td>10  20   1</td>\n    </tr>\n    <tr>\n      <th>39</th>\n      <td>39</td>\n      <td>2514</td>\n      <td>1245</td>\n      <td>* PROPOFOL 10MG/ML 20ML PROPOTIL LISTA C C1</td>\n      <td>60</td>\n      <td>7.54</td>\n      <td>PROPOFOL 10MG ML 20ML PROPOTIL LISTA C1</td>\n      <td>PROPOFOL</td>\n      <td></td>\n      <td>10  20   1</td>\n    </tr>\n    <tr>\n      <th>40</th>\n      <td>40</td>\n      <td>2514</td>\n      <td>1245</td>\n      <td>* PROPOFOL 10MG/ML 20ML PROPOTIL LISTA C C1</td>\n      <td>50</td>\n      <td>9.28</td>\n      <td>PROPOFOL 10MG ML 20ML PROPOTIL LISTA C1</td>\n      <td>PROPOFOL</td>\n      <td></td>\n      <td>10  20   1</td>\n    </tr>\n    <tr>\n      <th>41</th>\n      <td>41</td>\n      <td>2693</td>\n      <td>715</td>\n      <td>* SERTRALINA CLORIDRATO 50MG C/28 COMP C1</td>\n      <td>72</td>\n      <td>6.44</td>\n      <td>SERTRALINA CLORIDRATO 50MG 28 COMP C1</td>\n      <td>SERTRALINA</td>\n      <td>CLORIDRATO</td>\n      <td>50 28  1</td>\n    </tr>\n    <tr>\n      <th>42</th>\n      <td>42</td>\n      <td>2693</td>\n      <td>715</td>\n      <td>* SERTRALINA CLORIDRATO 50MG C/28 COMP C1</td>\n      <td>71</td>\n      <td>6.44</td>\n      <td>SERTRALINA CLORIDRATO 50MG 28 COMP C1</td>\n      <td>SERTRALINA</td>\n      <td>CLORIDRATO</td>\n      <td>50 28  1</td>\n    </tr>\n    <tr>\n      <th>43</th>\n      <td>43</td>\n      <td>2693</td>\n      <td>715</td>\n      <td>* SERTRALINA CLORIDRATO 50MG C/28 COMP C1</td>\n      <td>52</td>\n      <td>6.44</td>\n      <td>SERTRALINA CLORIDRATO 50MG 28 COMP C1</td>\n      <td>SERTRALINA</td>\n      <td>CLORIDRATO</td>\n      <td>50 28  1</td>\n    </tr>\n    <tr>\n      <th>44</th>\n      <td>44</td>\n      <td>2693</td>\n      <td>715</td>\n      <td>* SERTRALINA CLORIDRATO 50MG C/28 COMP C1</td>\n      <td>15</td>\n      <td>7.15</td>\n      <td>SERTRALINA CLORIDRATO 50MG 28 COMP C1</td>\n      <td>SERTRALINA</td>\n      <td>CLORIDRATO</td>\n      <td>50 28  1</td>\n    </tr>\n    <tr>\n      <th>45</th>\n      <td>45</td>\n      <td>2693</td>\n      <td>715</td>\n      <td>* SERTRALINA CLORIDRATO 50MG C/28 COMP C1</td>\n      <td>52</td>\n      <td>6.44</td>\n      <td>SERTRALINA CLORIDRATO 50MG 28 COMP C1</td>\n      <td>SERTRALINA</td>\n      <td>CLORIDRATO</td>\n      <td>50 28  1</td>\n    </tr>\n    <tr>\n      <th>46</th>\n      <td>46</td>\n      <td>2693</td>\n      <td>715</td>\n      <td>* SERTRALINA CLORIDRATO 50MG C/28 COMP C1</td>\n      <td>52</td>\n      <td>6.44</td>\n      <td>SERTRALINA CLORIDRATO 50MG 28 COMP C1</td>\n      <td>SERTRALINA</td>\n      <td>CLORIDRATO</td>\n      <td>50 28  1</td>\n    </tr>\n    <tr>\n      <th>47</th>\n      <td>47</td>\n      <td>2693</td>\n      <td>715</td>\n      <td>* SERTRALINA CLORIDRATO 50MG C/28 COMP C1</td>\n      <td>71</td>\n      <td>6.44</td>\n      <td>SERTRALINA CLORIDRATO 50MG 28 COMP C1</td>\n      <td>SERTRALINA</td>\n      <td>CLORIDRATO</td>\n      <td>50 28  1</td>\n    </tr>\n    <tr>\n      <th>48</th>\n      <td>48</td>\n      <td>2693</td>\n      <td>715</td>\n      <td>* SERTRALINA CLORIDRATO 50MG C/28 COMP C1</td>\n      <td>71</td>\n      <td>6.44</td>\n      <td>SERTRALINA CLORIDRATO 50MG 28 COMP C1</td>\n      <td>SERTRALINA</td>\n      <td>CLORIDRATO</td>\n      <td>50 28  1</td>\n    </tr>\n    <tr>\n      <th>49</th>\n      <td>49</td>\n      <td>2693</td>\n      <td>715</td>\n      <td>* SERTRALINA CLORIDRATO 50MG C/28 COMP C1</td>\n      <td>35</td>\n      <td>9.52</td>\n      <td>SERTRALINA CLORIDRATO 50MG 28 COMP C1</td>\n      <td>SERTRALINA</td>\n      <td>CLORIDRATO</td>\n      <td>50 28  1</td>\n    </tr>\n    <tr>\n      <th>50</th>\n      <td>50</td>\n      <td>2693</td>\n      <td>715</td>\n      <td>* SERTRALINA CLORIDRATO 50MG C/28 COMP C1</td>\n      <td>7</td>\n      <td>8.94</td>\n      <td>SERTRALINA CLORIDRATO 50MG 28 COMP C1</td>\n      <td>SERTRALINA</td>\n      <td>CLORIDRATO</td>\n      <td>50 28  1</td>\n    </tr>\n    <tr>\n      <th>51</th>\n      <td>51</td>\n      <td>2693</td>\n      <td>715</td>\n      <td>* SERTRALINA CLORIDRATO 50MG C/28 COMP C1</td>\n      <td>50</td>\n      <td>6.16</td>\n      <td>SERTRALINA CLORIDRATO 50MG 28 COMP C1</td>\n      <td>SERTRALINA</td>\n      <td>CLORIDRATO</td>\n      <td>50 28  1</td>\n    </tr>\n    <tr>\n      <th>52</th>\n      <td>52</td>\n      <td>2693</td>\n      <td>715</td>\n      <td>* SERTRALINA CLORIDRATO 50MG C/28 COMP C1</td>\n      <td>52</td>\n      <td>6.44</td>\n      <td>SERTRALINA CLORIDRATO 50MG 28 COMP C1</td>\n      <td>SERTRALINA</td>\n      <td>CLORIDRATO</td>\n      <td>50 28  1</td>\n    </tr>\n    <tr>\n      <th>53</th>\n      <td>53</td>\n      <td>2693</td>\n      <td>715</td>\n      <td>* SERTRALINA CLORIDRATO 50MG C/28 COMP C1</td>\n      <td>52</td>\n      <td>6.44</td>\n      <td>SERTRALINA CLORIDRATO 50MG 28 COMP C1</td>\n      <td>SERTRALINA</td>\n      <td>CLORIDRATO</td>\n      <td>50 28  1</td>\n    </tr>\n    <tr>\n      <th>54</th>\n      <td>54</td>\n      <td>2693</td>\n      <td>715</td>\n      <td>* SERTRALINA CLORIDRATO 50MG C/28 COMP C1</td>\n      <td>20</td>\n      <td>11.18</td>\n      <td>SERTRALINA CLORIDRATO 50MG 28 COMP C1</td>\n      <td>SERTRALINA</td>\n      <td>CLORIDRATO</td>\n      <td>50 28  1</td>\n    </tr>\n    <tr>\n      <th>55</th>\n      <td>55</td>\n      <td>2693</td>\n      <td>715</td>\n      <td>* SERTRALINA CLORIDRATO 50MG C/28 COMP C1</td>\n      <td>10</td>\n      <td>11.20</td>\n      <td>SERTRALINA CLORIDRATO 50MG 28 COMP C1</td>\n      <td>SERTRALINA</td>\n      <td>CLORIDRATO</td>\n      <td>50 28  1</td>\n    </tr>\n    <tr>\n      <th>56</th>\n      <td>56</td>\n      <td>2693</td>\n      <td>715</td>\n      <td>* SERTRALINA CLORIDRATO 50MG C/28 COMP C1</td>\n      <td>9</td>\n      <td>11.18</td>\n      <td>SERTRALINA CLORIDRATO 50MG 28 COMP C1</td>\n      <td>SERTRALINA</td>\n      <td>CLORIDRATO</td>\n      <td>50 28  1</td>\n    </tr>\n    <tr>\n      <th>57</th>\n      <td>57</td>\n      <td>2696</td>\n      <td>1327</td>\n      <td>* SEVOFLURANO 1MG/ML VOFLUR INAL 250ML C1</td>\n      <td>5</td>\n      <td>500.00</td>\n      <td>SEVOFLURANO 1MG ML VOFLUR INAL 250ML C1</td>\n      <td>SEVOFLURANO</td>\n      <td></td>\n      <td>1    250 1</td>\n    </tr>\n    <tr>\n      <th>58</th>\n      <td>58</td>\n      <td>2696</td>\n      <td>1327</td>\n      <td>* SEVOFLURANO 1MG/ML VOFLUR INAL 250ML C1</td>\n      <td>5</td>\n      <td>500.00</td>\n      <td>SEVOFLURANO 1MG ML VOFLUR INAL 250ML C1</td>\n      <td>SEVOFLURANO</td>\n      <td></td>\n      <td>1    250 1</td>\n    </tr>\n    <tr>\n      <th>59</th>\n      <td>59</td>\n      <td>2696</td>\n      <td>1327</td>\n      <td>* SEVOFLURANO 1MG/ML VOFLUR INAL 250ML C1</td>\n      <td>5</td>\n      <td>500.00</td>\n      <td>SEVOFLURANO 1MG ML VOFLUR INAL 250ML C1</td>\n      <td>SEVOFLURANO</td>\n      <td></td>\n      <td>1    250 1</td>\n    </tr>\n  </tbody>\n</table>\n</div>"
     },
     "metadata": {},
     "execution_count": 22
    }
   ],
   "source": [
    "# removing everything except the first two words and numbers\n",
    "df['Temp'] = df['Text'].str.split().str[0] + \" \"\n",
    "df['Sec'] = df['Text'].str.split().str[1] + \" \"\n",
    "df['Sec'] = df['Sec'].replace('^\\d+\\S+', '', regex=True)\n",
    "df['Thir'] = df['Text'].replace('[a-zA-Z]', '', regex=True).str.strip()\n",
    "df.head(60)"
   ]
  },
  {
   "cell_type": "code",
   "execution_count": 23,
   "metadata": {},
   "outputs": [
    {
     "output_type": "execute_result",
     "data": {
      "text/plain": [
       "          id  Label_1  Label_2                                 Original  \\\n",
       "0          0       45       12  #$ACETO.TRIA+SULFNEO+GRAM+NIST POM G LE   \n",
       "1          1       45       12  #$ACETO.TRIA+SULFNEO+GRAM+NIST POM G LE   \n",
       "2          2       45       12  #$ACETO.TRIA+SULFNEO+GRAM+NIST POM G LE   \n",
       "3          3       45       12  #$ACETO.TRIA+SULFNEO+GRAM+NIST POM G LE   \n",
       "4          4      291      153       #$BACTRONEO POM 20MG/G C/15G NEOQU   \n",
       "...      ...      ...      ...                                      ...   \n",
       "21111  21111     3258     1572                       ZYPRED SOL OFT 6ML   \n",
       "21112  21112     3258     1572                     ZYPRED SOL OFT C/6ML   \n",
       "21113  21113     3258     1572                     ZYPRED SOL OFT C/6ML   \n",
       "21114  21114     3258     1572                     ZYPRED SOL OFT C/6ML   \n",
       "21115  21115     3259     1572                 ZYPRED SUSP OFT 3ML  POS   \n",
       "\n",
       "       Quantity  Price                     Text  \n",
       "0             1  20.00       ACETOTRIA SULFNEO   \n",
       "1             1  20.00       ACETOTRIA SULFNEO   \n",
       "2             1  20.00       ACETOTRIA SULFNEO   \n",
       "3             1  20.00       ACETOTRIA SULFNEO   \n",
       "4             8  30.00  BACTRONEO POMADA 20  15  \n",
       "...         ...    ...                      ...  \n",
       "21111         2  68.63             ZYPRED SOL 6  \n",
       "21112         1  70.84             ZYPRED SOL 6  \n",
       "21113         1  70.84             ZYPRED SOL 6  \n",
       "21114         1  70.84             ZYPRED SOL 6  \n",
       "21115         2  35.07            ZYPRED SUSP 3  \n",
       "\n",
       "[21116 rows x 7 columns]"
      ],
      "text/html": "<div>\n<style scoped>\n    .dataframe tbody tr th:only-of-type {\n        vertical-align: middle;\n    }\n\n    .dataframe tbody tr th {\n        vertical-align: top;\n    }\n\n    .dataframe thead th {\n        text-align: right;\n    }\n</style>\n<table border=\"1\" class=\"dataframe\">\n  <thead>\n    <tr style=\"text-align: right;\">\n      <th></th>\n      <th>id</th>\n      <th>Label_1</th>\n      <th>Label_2</th>\n      <th>Original</th>\n      <th>Quantity</th>\n      <th>Price</th>\n      <th>Text</th>\n    </tr>\n  </thead>\n  <tbody>\n    <tr>\n      <th>0</th>\n      <td>0</td>\n      <td>45</td>\n      <td>12</td>\n      <td>#$ACETO.TRIA+SULFNEO+GRAM+NIST POM G LE</td>\n      <td>1</td>\n      <td>20.00</td>\n      <td>ACETOTRIA SULFNEO</td>\n    </tr>\n    <tr>\n      <th>1</th>\n      <td>1</td>\n      <td>45</td>\n      <td>12</td>\n      <td>#$ACETO.TRIA+SULFNEO+GRAM+NIST POM G LE</td>\n      <td>1</td>\n      <td>20.00</td>\n      <td>ACETOTRIA SULFNEO</td>\n    </tr>\n    <tr>\n      <th>2</th>\n      <td>2</td>\n      <td>45</td>\n      <td>12</td>\n      <td>#$ACETO.TRIA+SULFNEO+GRAM+NIST POM G LE</td>\n      <td>1</td>\n      <td>20.00</td>\n      <td>ACETOTRIA SULFNEO</td>\n    </tr>\n    <tr>\n      <th>3</th>\n      <td>3</td>\n      <td>45</td>\n      <td>12</td>\n      <td>#$ACETO.TRIA+SULFNEO+GRAM+NIST POM G LE</td>\n      <td>1</td>\n      <td>20.00</td>\n      <td>ACETOTRIA SULFNEO</td>\n    </tr>\n    <tr>\n      <th>4</th>\n      <td>4</td>\n      <td>291</td>\n      <td>153</td>\n      <td>#$BACTRONEO POM 20MG/G C/15G NEOQU</td>\n      <td>8</td>\n      <td>30.00</td>\n      <td>BACTRONEO POMADA 20  15</td>\n    </tr>\n    <tr>\n      <th>...</th>\n      <td>...</td>\n      <td>...</td>\n      <td>...</td>\n      <td>...</td>\n      <td>...</td>\n      <td>...</td>\n      <td>...</td>\n    </tr>\n    <tr>\n      <th>21111</th>\n      <td>21111</td>\n      <td>3258</td>\n      <td>1572</td>\n      <td>ZYPRED SOL OFT 6ML</td>\n      <td>2</td>\n      <td>68.63</td>\n      <td>ZYPRED SOL 6</td>\n    </tr>\n    <tr>\n      <th>21112</th>\n      <td>21112</td>\n      <td>3258</td>\n      <td>1572</td>\n      <td>ZYPRED SOL OFT C/6ML</td>\n      <td>1</td>\n      <td>70.84</td>\n      <td>ZYPRED SOL 6</td>\n    </tr>\n    <tr>\n      <th>21113</th>\n      <td>21113</td>\n      <td>3258</td>\n      <td>1572</td>\n      <td>ZYPRED SOL OFT C/6ML</td>\n      <td>1</td>\n      <td>70.84</td>\n      <td>ZYPRED SOL 6</td>\n    </tr>\n    <tr>\n      <th>21114</th>\n      <td>21114</td>\n      <td>3258</td>\n      <td>1572</td>\n      <td>ZYPRED SOL OFT C/6ML</td>\n      <td>1</td>\n      <td>70.84</td>\n      <td>ZYPRED SOL 6</td>\n    </tr>\n    <tr>\n      <th>21115</th>\n      <td>21115</td>\n      <td>3259</td>\n      <td>1572</td>\n      <td>ZYPRED SUSP OFT 3ML  POS</td>\n      <td>2</td>\n      <td>35.07</td>\n      <td>ZYPRED SUSP 3</td>\n    </tr>\n  </tbody>\n</table>\n<p>21116 rows × 7 columns</p>\n</div>"
     },
     "metadata": {},
     "execution_count": 23
    }
   ],
   "source": [
    "# putting it all together\n",
    "df['Text'] = df['Temp'] + df['Sec'] + df['Thir']\n",
    "df.drop('Temp', axis=1, inplace=True)\n",
    "df.drop('Sec', axis=1, inplace=True)\n",
    "df.drop('Thir', axis=1, inplace=True)\n",
    "df"
   ]
  },
  {
   "cell_type": "code",
   "execution_count": 25,
   "metadata": {},
   "outputs": [],
   "source": [
    "# saving data with higher cleaning\n",
    "df.to_excel(\"../dataset/clean_dataset++.xlsx\", index=False)"
   ]
  }
 ]
}